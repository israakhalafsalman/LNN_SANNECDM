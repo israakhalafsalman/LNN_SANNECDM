{
  "cells": [
    {
      "cell_type": "markdown",
      "source": [
        "\n",
        "\n",
        "# **Love nearest neighbors: sentiment analysis using nearest neighbors and efficient combination of deep model**"
      ],
      "metadata": {
        "id": "NCgbk8Ap8fjH"
      }
    },
    {
      "cell_type": "code",
      "execution_count": null,
      "metadata": {
        "colab": {
          "base_uri": "https://localhost:8080/"
        },
        "id": "aWqJ46XverYf",
        "outputId": "eb846c59-b621-4d8e-bd10-e95b350b33e1"
      },
      "outputs": [
        {
          "name": "stdout",
          "output_type": "stream",
          "text": [
            "Drive already mounted at /content/drive; to attempt to forcibly remount, call drive.mount(\"/content/drive\", force_remount=True).\n"
          ]
        }
      ],
      "source": [
        "from google.colab import drive\n",
        "drive.mount('/content/drive')"
      ]
    },
    {
      "cell_type": "code",
      "execution_count": null,
      "metadata": {
        "id": "g4_NLbnAesle"
      },
      "outputs": [],
      "source": [
        "import keras.backend as K"
      ]
    },
    {
      "cell_type": "code",
      "execution_count": null,
      "metadata": {
        "id": "hWPxGAxhe6Pb"
      },
      "outputs": [],
      "source": [
        "from sklearn.metrics import normalized_mutual_info_score,f1_score,precision_score,recall_score, adjusted_rand_score, accuracy_score, homogeneity_score, adjusted_mutual_info_score, silhouette_score\n",
        "\n",
        "nmi_fun = normalized_mutual_info_score\n",
        "ari_fun = adjusted_rand_score\n",
        "ami_fun = adjusted_mutual_info_score\n",
        "silhouette_score_fun = silhouette_score\n",
        "f1_score_fun = f1_score\n",
        "precision_score_fun = precision_score\n",
        "recall_score_fun = recall_score\n",
        "\n",
        "# acc_fun = homogeneity_score\n",
        "\n",
        "def acc_fun (y_true, y_pred):\n",
        "    \"\"\"\n",
        "    Calculate clustering accuracy. Require scikit-learn installed\n",
        "\n",
        "    # Arguments\n",
        "        y: true labels, numpy.array with shape `(n_samples,)`\n",
        "        y_pred: predicted labels, numpy.array with shape `(n_samples,)`\n",
        "\n",
        "    # Return\n",
        "        accuracy, in [0,1]\n",
        "    \"\"\"\n",
        "    y_true = y_true.astype(np.int64)\n",
        "    assert y_pred.size == y_true.size\n",
        "    D = max(y_pred.max(), y_true.max()) + 1\n",
        "    w = np.zeros((D, D), dtype=np.int64)\n",
        "    for i in range(y_pred.size):\n",
        "        w[y_pred[i], y_true[i]] += 1\n",
        "    from scipy.optimize import linear_sum_assignment as linear_assignment\n",
        "    ind = list(linear_assignment(w.max() - w))\n",
        "    acc_sum = 0\n",
        "    for k in range(len(w)):\n",
        "       acc_sum =  w[ind[0][k],ind[1][k]] + acc_sum\n",
        "    return acc_sum * 1.0 / y_pred.size"
      ]
    },
    {
      "cell_type": "code",
      "execution_count": null,
      "metadata": {
        "id": "mg1vRXLRe6M2"
      },
      "outputs": [],
      "source": [
        "from time import time\n",
        "import keras.backend as K\n",
        "from tensorflow.keras.optimizers import SGD, RMSprop, Adam\n",
        "from tensorflow.keras.layers import Layer, InputSpec\n",
        "from keras.layers import Dense, Input, Reshape\n",
        "from keras.models import Model\n",
        "from sklearn.feature_extraction.text import TfidfVectorizer\n",
        "from keras import callbacks\n",
        "from keras.initializers import VarianceScaling\n",
        "from sklearn.cluster import KMeans, MiniBatchKMeans,k_means\n",
        "from sklearn.metrics.pairwise import euclidean_distances\n",
        "from scipy import optimize\n",
        "import networkx as nx\n",
        "import numpy as np\n",
        "import glob\n",
        "import os, os.path\n",
        "import math\n",
        "from sklearn.metrics import roc_auc_score\n",
        "from sklearn.metrics import average_precision_score\n",
        "from sklearn.linear_model import LogisticRegression\n",
        "import numpy as np\n",
        "import pandas as pd\n",
        "np.random.seed(10)"
      ]
    },
    {
      "cell_type": "code",
      "execution_count": null,
      "metadata": {
        "id": "8X-nVqc5e6Km"
      },
      "outputs": [],
      "source": [
        "import pandas as pd\n",
        "\n",
        "df = pd.read_csv('/content/drive/MyDrive/BGETTY/shuffled_BGETTY_DATASET.csv')\n",
        "\n",
        "for i in range(len(df)):\n",
        "  if df['label'][i] == 'Positive':\n",
        "    df['label'][i] = 1\n",
        "  else:\n",
        "    df['label'][i] = 0\n",
        "\n",
        "\n",
        "df = df.sample(frac = 1,ignore_index=True)\n",
        "df_train = df[0:len(df)*80//100]     #80%\n",
        "df_test = df[len(df)*80//100:]       #20%\n",
        "\n",
        "y_train = np.asarray(df_train['label']).astype(int)\n",
        "y_test = np.asarray(df_test['label']).astype(int)"
      ]
    },
    {
      "cell_type": "code",
      "execution_count": null,
      "metadata": {
        "id": "W3BIx0Yns_ly"
      },
      "outputs": [],
      "source": [
        "def image_neighbor_select(idx, df_set = 'train'):\n",
        "    simi = np.zeros([len(idx), len(idx)])\n",
        "    neighbor_idx = np.zeros([len(idx), 2])\n",
        "\n",
        "    for i in range(len(idx)):\n",
        "      for j in range(len(idx)):\n",
        "        if df_set == 'train':\n",
        "          a = set(df_train['text'][i].split())\n",
        "          b = set(df_train['text'][j].split())\n",
        "        else:\n",
        "          a = set(df_test['text'][i + df_test['text'].index.start].split())\n",
        "          b = set(df_test['text'][j + df_test['text'].index.start].split())          \n",
        "\n",
        "        if  (df_set == 'train') and (i==j or (df_train['label'][i] != df_train['label'][j])):\n",
        "          simi[i,j] = 0\n",
        "        elif (df_set != 'train') and (i==j or (df_test['label'][i + df_test['label'].index.start] != df_test['label'][j + df_test['label'].index.start])):\n",
        "          simi[i,j] = 0\n",
        "        else:\n",
        "          simi[i,j] = len(a.intersection(b)) / len(a.union(b))\n",
        "      \n",
        "\n",
        "      neighbor_idx[i,0], neighbor_idx[i,1] = np.argpartition(simi[i], -2)[-2:]\n",
        "\n",
        "    return neighbor_idx.astype(int)"
      ]
    },
    {
      "cell_type": "code",
      "execution_count": null,
      "metadata": {
        "colab": {
          "base_uri": "https://localhost:8080/"
        },
        "id": "DaKWbTa3ijdP",
        "outputId": "cd554245-4da0-4f2b-cf2d-a7d057f6144c"
      },
      "outputs": [
        {
          "data": {
            "text/plain": [
              "count    20127.000000\n",
              "mean        96.088190\n",
              "std         57.669424\n",
              "min          4.000000\n",
              "25%         56.000000\n",
              "50%         84.000000\n",
              "75%        126.000000\n",
              "max       1491.000000\n",
              "Name: text, dtype: float64"
            ]
          },
          "execution_count": 7,
          "metadata": {},
          "output_type": "execute_result"
        }
      ],
      "source": [
        "df['text'].apply(lambda x:len(x)).describe()"
      ]
    },
    {
      "cell_type": "code",
      "execution_count": null,
      "metadata": {
        "id": "9KxEvasKjx3f"
      },
      "outputs": [],
      "source": [
        "all_word = df['text'].apply(lambda x: x.split()).values"
      ]
    },
    {
      "cell_type": "code",
      "execution_count": null,
      "metadata": {
        "colab": {
          "base_uri": "https://localhost:8080/"
        },
        "id": "mnfHR8yvjBhg",
        "outputId": "f743b5b9-50d4-44e7-ff90-101e9bc1a345"
      },
      "outputs": [
        {
          "data": {
            "text/plain": [
              "271077"
            ]
          },
          "execution_count": 8,
          "metadata": {},
          "output_type": "execute_result"
        }
      ],
      "source": [
        "empty_list = []\n",
        "for word_list in all_word:\n",
        "  empty_list.extend(word_list)\n",
        "\n",
        "len(empty_list)"
      ]
    },
    {
      "cell_type": "code",
      "execution_count": null,
      "metadata": {
        "colab": {
          "base_uri": "https://localhost:8080/"
        },
        "id": "TrlyXtCFoCFi",
        "outputId": "8de3cb19-664b-46b2-dc2f-1116fed8770b"
      },
      "outputs": [
        {
          "data": {
            "text/plain": [
              "15573"
            ]
          },
          "execution_count": 9,
          "metadata": {},
          "output_type": "execute_result"
        }
      ],
      "source": [
        "len(set(empty_list))"
      ]
    },
    {
      "cell_type": "markdown",
      "metadata": {
        "id": "ULwUx2mWplTc"
      },
      "source": [
        "#text"
      ]
    },
    {
      "cell_type": "code",
      "execution_count": null,
      "metadata": {
        "id": "_xux3UL9oxUb"
      },
      "outputs": [],
      "source": [
        "from keras.preprocessing.text import Tokenizer\n",
        "from tensorflow.keras.preprocessing.sequence import pad_sequences\n",
        "import numpy as np\n",
        "\n",
        "maxlen = 200  # We will cut reviews after 100 words\n",
        "training_samples = df_train.index.size \n",
        "max_words = 10000  # We will only consider the top 10,000 words in the dataset"
      ]
    },
    {
      "cell_type": "code",
      "execution_count": null,
      "metadata": {
        "id": "4vGlPDoRoxWp"
      },
      "outputs": [],
      "source": [
        "tokenizer = Tokenizer(num_words=max_words)\n",
        "tokenizer.fit_on_texts(df_train['text'])\n",
        "sequences = tokenizer.texts_to_sequences(df_train['text'])"
      ]
    },
    {
      "cell_type": "code",
      "execution_count": null,
      "metadata": {
        "colab": {
          "base_uri": "https://localhost:8080/"
        },
        "id": "1kYBqDfYoxcA",
        "outputId": "feccc33e-98f6-4448-a3d6-287f184c1c92"
      },
      "outputs": [
        {
          "name": "stdout",
          "output_type": "stream",
          "text": [
            "Found 11781 unique tokens.\n",
            "Shape of data tensor: (16101, 200)\n"
          ]
        }
      ],
      "source": [
        "word_index = tokenizer.word_index\n",
        "print('Found %s unique tokens.' % len(word_index))\n",
        "\n",
        "data_txt = pad_sequences(sequences, maxlen=maxlen)\n",
        "print('Shape of data tensor:', data_txt.shape)"
      ]
    },
    {
      "cell_type": "code",
      "execution_count": null,
      "metadata": {
        "id": "omaYJwx4pnjj"
      },
      "outputs": [],
      "source": [
        "indices = np.arange(data_txt.shape[0])\n",
        "data_txt = data_txt[indices]\n",
        "x_train = data_txt"
      ]
    },
    {
      "cell_type": "code",
      "execution_count": null,
      "metadata": {
        "colab": {
          "base_uri": "https://localhost:8080/"
        },
        "id": "j9aekJ_miImy",
        "outputId": "106e9d87-f474-43bf-d86f-c07cba2e4660"
      },
      "outputs": [
        {
          "name": "stdout",
          "output_type": "stream",
          "text": [
            "--2023-03-09 10:34:40--  https://downloads.cs.stanford.edu/nlp/data/glove.6B.zip\n",
            "Resolving downloads.cs.stanford.edu (downloads.cs.stanford.edu)... 171.64.64.22\n",
            "Connecting to downloads.cs.stanford.edu (downloads.cs.stanford.edu)|171.64.64.22|:443... connected.\n",
            "HTTP request sent, awaiting response... 200 OK\n",
            "Length: 862182613 (822M) [application/zip]\n",
            "Saving to: ‘glove.6B.zip’\n",
            "\n",
            "glove.6B.zip        100%[===================>] 822.24M  5.02MB/s    in 2m 39s  \n",
            "\n",
            "2023-03-09 10:37:19 (5.19 MB/s) - ‘glove.6B.zip’ saved [862182613/862182613]\n",
            "\n",
            "Looking in indexes: https://pypi.org/simple, https://us-python.pkg.dev/colab-wheels/public/simple/\n",
            "Collecting unzip\n",
            "  Downloading unzip-1.0.0.tar.gz (704 bytes)\n",
            "  Preparing metadata (setup.py) ... \u001b[?25l\u001b[?25hdone\n",
            "Building wheels for collected packages: unzip\n",
            "  Building wheel for unzip (setup.py) ... \u001b[?25l\u001b[?25hdone\n",
            "  Created wheel for unzip: filename=unzip-1.0.0-py3-none-any.whl size=1322 sha256=d994fe167eca3cff220d3acdd1c6b71e7b83cc74a227eb58aea46f9eab4df2b6\n",
            "  Stored in directory: /root/.cache/pip/wheels/88/2c/2b/d12ab5bb9f34eba42f98231b969311f33d7dc1a2f484b902d1\n",
            "Successfully built unzip\n",
            "Installing collected packages: unzip\n",
            "Successfully installed unzip-1.0.0\n"
          ]
        }
      ],
      "source": [
        "!wget https://downloads.cs.stanford.edu/nlp/data/glove.6B.zip\n",
        "!pip install unzip\n",
        "!unzip -q glove.6B.zip"
      ]
    },
    {
      "cell_type": "code",
      "execution_count": null,
      "metadata": {
        "colab": {
          "base_uri": "https://localhost:8080/"
        },
        "id": "CwObhkI2hjEC",
        "outputId": "5d650bdc-caa5-4094-8764-393d0ea68f3d"
      },
      "outputs": [
        {
          "name": "stdout",
          "output_type": "stream",
          "text": [
            "Found 400000 word vectors.\n"
          ]
        }
      ],
      "source": [
        "embeddings_index = {}\n",
        "f = open(os.path.join('glove.6B.200d.txt'))\n",
        "for line in f:\n",
        "    values = line.split()\n",
        "    word = values[0]\n",
        "    coefs = np.asarray(values[1:], dtype='float32')\n",
        "    embeddings_index[word] = coefs\n",
        "f.close()\n",
        "\n",
        "print('Found %s word vectors.' % len(embeddings_index))"
      ]
    },
    {
      "cell_type": "code",
      "execution_count": null,
      "metadata": {
        "id": "EAxAaaSwhjBt"
      },
      "outputs": [],
      "source": [
        "embedding_dim = 200\n",
        "\n",
        "embedding_matrix = np.zeros((max_words, embedding_dim))\n",
        "for word, i in word_index.items():\n",
        "    embedding_vector = embeddings_index.get(word)\n",
        "    if i < max_words:\n",
        "        if embedding_vector is not None:\n",
        "            # Words not found in embedding index will be all-zeros.\n",
        "            embedding_matrix[i] = embedding_vector"
      ]
    },
    {
      "cell_type": "code",
      "execution_count": null,
      "metadata": {
        "id": "aaO9pQXiq-8j"
      },
      "outputs": [],
      "source": [
        "from keras.models import Sequential\n",
        "from keras.layers import Embedding, SimpleRNN, LSTM, Bidirectional, Concatenate, GRU\n",
        "from keras import models\n",
        "from keras import layers\n",
        "import keras\n",
        "\n",
        "max_features = 10000\n",
        "input_shape = 200\n",
        "\n",
        "BiLSTM_1 = Sequential()\n",
        "BiLSTM_1.add(Embedding(max_features, 128))\n",
        "BiLSTM_1.add(Bidirectional(LSTM(128, return_sequences=True)))\n",
        "BiLSTM_1.add(Bidirectional(LSTM(64, return_sequences=True)))\n",
        "BiLSTM_1.add(LSTM(64))\n",
        "\n",
        "BiLSTM_2 = Sequential()\n",
        "BiLSTM_2.add(Embedding(max_features, 128))\n",
        "BiLSTM_2.add(GRU(128, return_sequences=True))\n",
        "BiLSTM_2.add(GRU(64, return_sequences=True))\n",
        "BiLSTM_2.add(LSTM(64))\n",
        "\n",
        "input_text = keras.Input(shape=(input_shape), name='input_text_')\n",
        "x1 = BiLSTM_1(input_text)\n",
        "x2 = BiLSTM_2(input_text)\n",
        "\n",
        "out_encoder = layers.Maximum()([x1, x2])\n",
        "\n",
        "input_textNeighbor1 = keras.Input(shape=(input_shape), name='input_textNeighbor1')\n",
        "Neighbor1 = BiLSTM_1(input_textNeighbor1)\n",
        "\n",
        "input_textNeighbor2 = keras.Input(shape=(input_shape), name='input_textNeighbor2')\n",
        "Neighbor2 = BiLSTM_2(input_textNeighbor2)\n",
        "\n",
        "out_encoder_neighbor = layers.Maximum()([Neighbor1,Neighbor2])\n",
        "out_con = Concatenate(axis=1)([out_encoder, out_encoder_neighbor])\n",
        "\n",
        "encoded = layers.Dense(128, activation='relu')(out_con)\n",
        "encoded = layers.Dropout(0.25)(encoded)\n",
        "encoded = layers.Dense(64, activation='relu')(encoded)\n",
        "encoded = layers.Dropout(0.25)(encoded)\n",
        "encoded = layers.Dense(32, activation='relu')(encoded) # before 16\n",
        "encoded = layers.Dense(1, activation='sigmoid')(encoded)\n",
        "\n",
        "encoderWithNeighbors = keras.Model(inputs=[input_text, input_textNeighbor1, input_textNeighbor2], outputs=encoded, name='encoder')  "
      ]
    },
    {
      "cell_type": "code",
      "execution_count": null,
      "metadata": {
        "colab": {
          "base_uri": "https://localhost:8080/"
        },
        "id": "o5urpwVcq-8k",
        "outputId": "8ca17074-dba1-4227-babc-59901e1f6245"
      },
      "outputs": [
        {
          "name": "stdout",
          "output_type": "stream",
          "text": [
            "Model: \"encoder\"\n",
            "__________________________________________________________________________________________________\n",
            " Layer (type)                   Output Shape         Param #     Connected to                     \n",
            "==================================================================================================\n",
            " input_text_ (InputLayer)       [(None, 200)]        0           []                               \n",
            "                                                                                                  \n",
            " input_textNeighbor1 (InputLaye  [(None, 200)]       0           []                               \n",
            " r)                                                                                               \n",
            "                                                                                                  \n",
            " input_textNeighbor2 (InputLaye  [(None, 200)]       0           []                               \n",
            " r)                                                                                               \n",
            "                                                                                                  \n",
            " sequential (Sequential)        (None, 64)           1756928     ['input_text_[0][0]',            \n",
            "                                                                  'input_textNeighbor1[0][0]']    \n",
            "                                                                                                  \n",
            " sequential_1 (Sequential)      (None, 64)           1449344     ['input_text_[0][0]',            \n",
            "                                                                  'input_textNeighbor2[0][0]']    \n",
            "                                                                                                  \n",
            " maximum (Maximum)              (None, 64)           0           ['sequential[0][0]',             \n",
            "                                                                  'sequential_1[0][0]']           \n",
            "                                                                                                  \n",
            " maximum_1 (Maximum)            (None, 64)           0           ['sequential[1][0]',             \n",
            "                                                                  'sequential_1[1][0]']           \n",
            "                                                                                                  \n",
            " concatenate (Concatenate)      (None, 128)          0           ['maximum[0][0]',                \n",
            "                                                                  'maximum_1[0][0]']              \n",
            "                                                                                                  \n",
            " dense (Dense)                  (None, 128)          16512       ['concatenate[0][0]']            \n",
            "                                                                                                  \n",
            " dropout (Dropout)              (None, 128)          0           ['dense[0][0]']                  \n",
            "                                                                                                  \n",
            " dense_1 (Dense)                (None, 64)           8256        ['dropout[0][0]']                \n",
            "                                                                                                  \n",
            " dropout_1 (Dropout)            (None, 64)           0           ['dense_1[0][0]']                \n",
            "                                                                                                  \n",
            " dense_2 (Dense)                (None, 32)           2080        ['dropout_1[0][0]']              \n",
            "                                                                                                  \n",
            " dense_3 (Dense)                (None, 1)            33          ['dense_2[0][0]']                \n",
            "                                                                                                  \n",
            "==================================================================================================\n",
            "Total params: 3,233,153\n",
            "Trainable params: 3,233,153\n",
            "Non-trainable params: 0\n",
            "__________________________________________________________________________________________________\n"
          ]
        }
      ],
      "source": [
        "encoderWithNeighbors.summary()"
      ]
    },
    {
      "cell_type": "code",
      "execution_count": null,
      "metadata": {
        "colab": {
          "base_uri": "https://localhost:8080/",
          "height": 1000
        },
        "id": "pvuwheCZq-8k",
        "outputId": "cba1c502-d7ed-4b11-bf7a-7b87ea836ab8"
      },
      "outputs": [
        {
          "data": {
            "image/png": "[encoded data removed]",
            "text/plain": [
              "<IPython.core.display.Image object>"
            ]
          },
          "execution_count": 16,
          "metadata": {},
          "output_type": "execute_result"
        }
      ],
      "source": [
        "import tensorflow\n",
        "from keras import optimizers\n",
        "tensorflow.keras.utils.plot_model(encoderWithNeighbors, \"multi_input_and_output_model.png\", show_shapes=True)"
      ]
    },
    {
      "cell_type": "code",
      "execution_count": null,
      "metadata": {
        "id": "SbOBZZHCtYUm"
      },
      "outputs": [],
      "source": [
        "epoch = 3 # before 2\n",
        "batch_size = 32 # before 64\n",
        "maxiter = df_train.index.size // batch_size * epoch\n",
        "update_interval = 100\n",
        "loss = 0\n",
        "index = 0\n",
        "save_dir = '/content/drive/MyDrive/'\n",
        "index_array = np.arange(df_train.index.size )"
      ]
    },
    {
      "cell_type": "code",
      "execution_count": null,
      "metadata": {
        "id": "7rSUKUB3tYUr"
      },
      "outputs": [],
      "source": [
        "encoderWithNeighbors.compile(loss='binary_crossentropy', optimizer=optimizers.Adam(), metrics=['accuracy'])"
      ]
    },
    {
      "cell_type": "code",
      "execution_count": null,
      "metadata": {
        "colab": {
          "base_uri": "https://localhost:8080/"
        },
        "id": "xcLN7ceHtYUs",
        "outputId": "3375e9cd-94bf-4824-bcc7-36197233d069"
      },
      "outputs": [
        {
          "name": "stdout",
          "output_type": "stream",
          "text": [
            "Iter 0:   ; loss= 1.31983 ; Accuracy= 0.53125\n",
            "Iter 5:   ; loss= 0.48774 ; Accuracy= 0.5\n",
            "Iter 10:   ; loss= 0.28564 ; Accuracy= 0.9375\n",
            "Iter 15:   ; loss= 0.19554 ; Accuracy= 1.0\n",
            "Iter 20:   ; loss= 0.07869 ; Accuracy= 1.0\n",
            "Iter 25:   ; loss= 0.04737 ; Accuracy= 1.0\n",
            "Iter 30:   ; loss= 0.01339 ; Accuracy= 1.0\n",
            "Iter 35:   ; loss= 0.00414 ; Accuracy= 1.0\n",
            "Iter 40:   ; loss= 0.03398 ; Accuracy= 0.96875\n",
            "Iter 45:   ; loss= 0.00123 ; Accuracy= 1.0\n",
            "Iter 50:   ; loss= 0.00046 ; Accuracy= 1.0\n",
            "Iter 55:   ; loss= 0.00065 ; Accuracy= 1.0\n",
            "Iter 60:   ; loss= 0.00054 ; Accuracy= 1.0\n",
            "Iter 65:   ; loss= 0.14042 ; Accuracy= 0.96875\n",
            "Iter 70:   ; loss= 0.00922 ; Accuracy= 1.0\n",
            "Iter 75:   ; loss= 0.05849 ; Accuracy= 0.96875\n",
            "Iter 80:   ; loss= 0.00157 ; Accuracy= 1.0\n",
            "Iter 85:   ; loss= 0.00087 ; Accuracy= 1.0\n",
            "Iter 90:   ; loss= 0.00114 ; Accuracy= 1.0\n",
            "Iter 95:   ; loss= 0.00019 ; Accuracy= 1.0\n",
            "Iter 100:   ; loss= 0.00169 ; Accuracy= 1.0\n",
            "Iter 105:   ; loss= 0.00147 ; Accuracy= 1.0\n",
            "Iter 110:   ; loss= 0.00189 ; Accuracy= 1.0\n",
            "Iter 115:   ; loss= 0.00251 ; Accuracy= 1.0\n",
            "Iter 120:   ; loss= 0.00089 ; Accuracy= 1.0\n",
            "Iter 125:   ; loss= 0.0012 ; Accuracy= 1.0\n",
            "Iter 130:   ; loss= 0.00068 ; Accuracy= 1.0\n",
            "Iter 135:   ; loss= 0.00201 ; Accuracy= 1.0\n",
            "Iter 140:   ; loss= 0.00063 ; Accuracy= 1.0\n",
            "Iter 145:   ; loss= 0.00153 ; Accuracy= 1.0\n",
            "Iter 150:   ; loss= 0.00054 ; Accuracy= 1.0\n",
            "Iter 155:   ; loss= 0.0029 ; Accuracy= 1.0\n",
            "Iter 160:   ; loss= 0.00401 ; Accuracy= 1.0\n",
            "Iter 165:   ; loss= 0.00494 ; Accuracy= 1.0\n",
            "Iter 170:   ; loss= 0.0011 ; Accuracy= 1.0\n",
            "Iter 175:   ; loss= 0.00192 ; Accuracy= 1.0\n",
            "Iter 180:   ; loss= 0.00086 ; Accuracy= 1.0\n",
            "Iter 185:   ; loss= 0.0155 ; Accuracy= 1.0\n",
            "Iter 190:   ; loss= 0.00196 ; Accuracy= 1.0\n",
            "Iter 195:   ; loss= 0.00185 ; Accuracy= 1.0\n",
            "Iter 200:   ; loss= 0.00202 ; Accuracy= 1.0\n",
            "Iter 205:   ; loss= 0.00077 ; Accuracy= 1.0\n",
            "Iter 210:   ; loss= 0.00214 ; Accuracy= 1.0\n",
            "Iter 215:   ; loss= 0.00067 ; Accuracy= 1.0\n",
            "Iter 220:   ; loss= 0.00132 ; Accuracy= 1.0\n",
            "Iter 225:   ; loss= 0.00061 ; Accuracy= 1.0\n",
            "Iter 230:   ; loss= 0.00041 ; Accuracy= 1.0\n",
            "Iter 235:   ; loss= 0.0004 ; Accuracy= 1.0\n",
            "Iter 240:   ; loss= 0.0002 ; Accuracy= 1.0\n",
            "Iter 245:   ; loss= 0.00093 ; Accuracy= 1.0\n",
            "Iter 250:   ; loss= 0.00015 ; Accuracy= 1.0\n",
            "Iter 255:   ; loss= 0.00087 ; Accuracy= 1.0\n",
            "Iter 260:   ; loss= 0.0004 ; Accuracy= 1.0\n",
            "Iter 265:   ; loss= 0.00025 ; Accuracy= 1.0\n",
            "Iter 270:   ; loss= 6e-05 ; Accuracy= 1.0\n",
            "Iter 275:   ; loss= 4e-05 ; Accuracy= 1.0\n",
            "Iter 280:   ; loss= 0.00012 ; Accuracy= 1.0\n",
            "Iter 285:   ; loss= 0.00016 ; Accuracy= 1.0\n",
            "Iter 290:   ; loss= 2e-05 ; Accuracy= 1.0\n",
            "Iter 295:   ; loss= 5e-05 ; Accuracy= 1.0\n",
            "Iter 300:   ; loss= 3e-05 ; Accuracy= 1.0\n",
            "Iter 305:   ; loss= 0.00104 ; Accuracy= 1.0\n",
            "Iter 310:   ; loss= 0.00058 ; Accuracy= 1.0\n",
            "Iter 315:   ; loss= 4e-05 ; Accuracy= 1.0\n",
            "Iter 320:   ; loss= 0.00135 ; Accuracy= 1.0\n",
            "Iter 325:   ; loss= 8e-05 ; Accuracy= 1.0\n",
            "Iter 330:   ; loss= 0.00011 ; Accuracy= 1.0\n",
            "Iter 335:   ; loss= 0.0002 ; Accuracy= 1.0\n",
            "Iter 340:   ; loss= 6e-05 ; Accuracy= 1.0\n",
            "Iter 345:   ; loss= 0.00026 ; Accuracy= 1.0\n",
            "Iter 350:   ; loss= 0.0002 ; Accuracy= 1.0\n",
            "Iter 355:   ; loss= 0.00189 ; Accuracy= 1.0\n",
            "Iter 360:   ; loss= 0.00075 ; Accuracy= 1.0\n",
            "Iter 365:   ; loss= 0.00249 ; Accuracy= 1.0\n",
            "Iter 370:   ; loss= 0.0033 ; Accuracy= 1.0\n",
            "Iter 375:   ; loss= 0.0035 ; Accuracy= 1.0\n",
            "Iter 380:   ; loss= 0.00093 ; Accuracy= 1.0\n",
            "Iter 385:   ; loss= 0.00825 ; Accuracy= 1.0\n",
            "Iter 390:   ; loss= 0.00118 ; Accuracy= 1.0\n",
            "Iter 395:   ; loss= 0.00015 ; Accuracy= 1.0\n",
            "Iter 400:   ; loss= 0.00026 ; Accuracy= 1.0\n",
            "Iter 405:   ; loss= 0.00165 ; Accuracy= 1.0\n",
            "Iter 410:   ; loss= 0.00029 ; Accuracy= 1.0\n",
            "Iter 415:   ; loss= 0.0004 ; Accuracy= 1.0\n",
            "Iter 420:   ; loss= 0.0002 ; Accuracy= 1.0\n",
            "Iter 425:   ; loss= 0.00053 ; Accuracy= 1.0\n",
            "Iter 430:   ; loss= 0.00028 ; Accuracy= 1.0\n",
            "Iter 435:   ; loss= 0.00436 ; Accuracy= 1.0\n",
            "Iter 440:   ; loss= 0.00377 ; Accuracy= 1.0\n",
            "Iter 445:   ; loss= 0.00107 ; Accuracy= 1.0\n",
            "Iter 450:   ; loss= 0.00038 ; Accuracy= 1.0\n",
            "Iter 455:   ; loss= 0.13313 ; Accuracy= 0.96875\n",
            "Iter 460:   ; loss= 0.00039 ; Accuracy= 1.0\n",
            "Iter 465:   ; loss= 0.03733 ; Accuracy= 0.96875\n",
            "Iter 470:   ; loss= 0.00024 ; Accuracy= 1.0\n",
            "Iter 475:   ; loss= 0.00045 ; Accuracy= 1.0\n",
            "Iter 480:   ; loss= 0.00011 ; Accuracy= 1.0\n",
            "Iter 485:   ; loss= 7e-05 ; Accuracy= 1.0\n",
            "Iter 490:   ; loss= 8e-05 ; Accuracy= 1.0\n",
            "Iter 495:   ; loss= 9e-05 ; Accuracy= 1.0\n",
            "Iter 500:   ; loss= 0.00012 ; Accuracy= 1.0\n",
            "Iter 505:   ; loss= 0.00516 ; Accuracy= 1.0\n",
            "Iter 510:   ; loss= 0.00786 ; Accuracy= 1.0\n",
            "Iter 515:   ; loss= 0.0056 ; Accuracy= 1.0\n",
            "Iter 520:   ; loss= 0.00076 ; Accuracy= 1.0\n",
            "Iter 525:   ; loss= 0.00104 ; Accuracy= 1.0\n",
            "Iter 530:   ; loss= 0.00041 ; Accuracy= 1.0\n",
            "Iter 535:   ; loss= 0.00039 ; Accuracy= 1.0\n",
            "Iter 540:   ; loss= 0.00098 ; Accuracy= 1.0\n",
            "Iter 545:   ; loss= 0.0005 ; Accuracy= 1.0\n",
            "Iter 550:   ; loss= 0.00113 ; Accuracy= 1.0\n",
            "Iter 555:   ; loss= 0.00016 ; Accuracy= 1.0\n",
            "Iter 560:   ; loss= 0.00015 ; Accuracy= 1.0\n",
            "Iter 565:   ; loss= 0.00019 ; Accuracy= 1.0\n",
            "Iter 570:   ; loss= 0.00081 ; Accuracy= 1.0\n",
            "Iter 575:   ; loss= 0.0025 ; Accuracy= 1.0\n",
            "Iter 580:   ; loss= 0.00079 ; Accuracy= 1.0\n",
            "Iter 585:   ; loss= 0.00024 ; Accuracy= 1.0\n",
            "Iter 590:   ; loss= 0.00089 ; Accuracy= 1.0\n",
            "Iter 595:   ; loss= 0.00014 ; Accuracy= 1.0\n",
            "Iter 600:   ; loss= 0.0002 ; Accuracy= 1.0\n",
            "Iter 605:   ; loss= 0.00019 ; Accuracy= 1.0\n",
            "Iter 610:   ; loss= 9e-05 ; Accuracy= 1.0\n",
            "Iter 615:   ; loss= 0.00352 ; Accuracy= 1.0\n",
            "Iter 620:   ; loss= 7e-05 ; Accuracy= 1.0\n",
            "Iter 625:   ; loss= 7e-05 ; Accuracy= 1.0\n",
            "Iter 630:   ; loss= 7e-05 ; Accuracy= 1.0\n",
            "Iter 635:   ; loss= 0.00188 ; Accuracy= 1.0\n",
            "Iter 640:   ; loss= 3e-05 ; Accuracy= 1.0\n",
            "Iter 645:   ; loss= 2e-05 ; Accuracy= 1.0\n",
            "Iter 650:   ; loss= 0.00017 ; Accuracy= 1.0\n",
            "Iter 655:   ; loss= 8e-05 ; Accuracy= 1.0\n",
            "Iter 660:   ; loss= 4e-05 ; Accuracy= 1.0\n",
            "Iter 665:   ; loss= 4e-05 ; Accuracy= 1.0\n",
            "Iter 670:   ; loss= 6e-05 ; Accuracy= 1.0\n",
            "Iter 675:   ; loss= 8e-05 ; Accuracy= 1.0\n",
            "Iter 680:   ; loss= 4e-05 ; Accuracy= 1.0\n",
            "Iter 685:   ; loss= 0.00019 ; Accuracy= 1.0\n",
            "Iter 690:   ; loss= 8e-05 ; Accuracy= 1.0\n",
            "Iter 695:   ; loss= 0.00012 ; Accuracy= 1.0\n",
            "Iter 700:   ; loss= 5e-05 ; Accuracy= 1.0\n",
            "Iter 705:   ; loss= 0.00055 ; Accuracy= 1.0\n",
            "Iter 710:   ; loss= 0.00012 ; Accuracy= 1.0\n",
            "Iter 715:   ; loss= 0.00019 ; Accuracy= 1.0\n",
            "Iter 720:   ; loss= 0.18287 ; Accuracy= 0.96875\n",
            "Iter 725:   ; loss= 0.00269 ; Accuracy= 1.0\n",
            "Iter 730:   ; loss= 0.00036 ; Accuracy= 1.0\n",
            "Iter 735:   ; loss= 0.00017 ; Accuracy= 1.0\n",
            "Iter 740:   ; loss= 0.00016 ; Accuracy= 1.0\n",
            "Iter 745:   ; loss= 0.00037 ; Accuracy= 1.0\n",
            "Iter 750:   ; loss= 0.00021 ; Accuracy= 1.0\n",
            "Iter 755:   ; loss= 0.00019 ; Accuracy= 1.0\n",
            "Iter 760:   ; loss= 0.0001 ; Accuracy= 1.0\n",
            "Iter 765:   ; loss= 0.0031 ; Accuracy= 1.0\n",
            "Iter 770:   ; loss= 0.0001 ; Accuracy= 1.0\n",
            "Iter 775:   ; loss= 0.00027 ; Accuracy= 1.0\n",
            "Iter 780:   ; loss= 0.00057 ; Accuracy= 1.0\n",
            "Iter 785:   ; loss= 0.00171 ; Accuracy= 1.0\n",
            "Iter 790:   ; loss= 0.01435 ; Accuracy= 1.0\n",
            "Iter 795:   ; loss= 0.00018 ; Accuracy= 1.0\n",
            "Iter 800:   ; loss= 7e-05 ; Accuracy= 1.0\n",
            "Iter 805:   ; loss= 0.00014 ; Accuracy= 1.0\n",
            "Iter 810:   ; loss= 0.00016 ; Accuracy= 1.0\n",
            "Iter 815:   ; loss= 3e-05 ; Accuracy= 1.0\n",
            "Iter 820:   ; loss= 8e-05 ; Accuracy= 1.0\n",
            "Iter 825:   ; loss= 0.00017 ; Accuracy= 1.0\n",
            "Iter 830:   ; loss= 7e-05 ; Accuracy= 1.0\n",
            "Iter 835:   ; loss= 5e-05 ; Accuracy= 1.0\n",
            "Iter 840:   ; loss= 9e-05 ; Accuracy= 1.0\n",
            "Iter 845:   ; loss= 6e-05 ; Accuracy= 1.0\n",
            "Iter 850:   ; loss= 0.0001 ; Accuracy= 1.0\n",
            "Iter 855:   ; loss= 0.00096 ; Accuracy= 1.0\n",
            "Iter 860:   ; loss= 5e-05 ; Accuracy= 1.0\n",
            "Iter 865:   ; loss= 0.0005 ; Accuracy= 1.0\n",
            "Iter 870:   ; loss= 0.0032 ; Accuracy= 1.0\n",
            "Iter 875:   ; loss= 0.00224 ; Accuracy= 1.0\n",
            "Iter 880:   ; loss= 0.00213 ; Accuracy= 1.0\n",
            "Iter 885:   ; loss= 0.00018 ; Accuracy= 1.0\n",
            "Iter 890:   ; loss= 0.00039 ; Accuracy= 1.0\n",
            "Iter 895:   ; loss= 0.00239 ; Accuracy= 1.0\n",
            "Iter 900:   ; loss= 0.00018 ; Accuracy= 1.0\n",
            "Iter 905:   ; loss= 0.00033 ; Accuracy= 1.0\n",
            "Iter 910:   ; loss= 0.0002 ; Accuracy= 1.0\n",
            "Iter 915:   ; loss= 0.00058 ; Accuracy= 1.0\n",
            "Iter 920:   ; loss= 0.00087 ; Accuracy= 1.0\n",
            "Iter 925:   ; loss= 0.00031 ; Accuracy= 1.0\n",
            "Iter 930:   ; loss= 6e-05 ; Accuracy= 1.0\n",
            "Iter 935:   ; loss= 0.00013 ; Accuracy= 1.0\n",
            "Iter 940:   ; loss= 6e-05 ; Accuracy= 1.0\n",
            "Iter 945:   ; loss= 4e-05 ; Accuracy= 1.0\n",
            "Iter 950:   ; loss= 4e-05 ; Accuracy= 1.0\n",
            "Iter 955:   ; loss= 4e-05 ; Accuracy= 1.0\n",
            "Iter 960:   ; loss= 1e-05 ; Accuracy= 1.0\n",
            "Iter 965:   ; loss= 2e-05 ; Accuracy= 1.0\n",
            "Iter 970:   ; loss= 8e-05 ; Accuracy= 1.0\n",
            "Iter 975:   ; loss= 0.05581 ; Accuracy= 0.96875\n",
            "Iter 980:   ; loss= 0.00361 ; Accuracy= 1.0\n",
            "Iter 985:   ; loss= 0.00236 ; Accuracy= 1.0\n",
            "Iter 990:   ; loss= 3e-05 ; Accuracy= 1.0\n",
            "Iter 995:   ; loss= 0.00133 ; Accuracy= 1.0\n",
            "Iter 1000:   ; loss= 0.17574 ; Accuracy= 0.96875\n",
            "Iter 1005:   ; loss= 0.00208 ; Accuracy= 1.0\n",
            "Iter 1010:   ; loss= 0.00028 ; Accuracy= 1.0\n",
            "Iter 1015:   ; loss= 0.0002 ; Accuracy= 1.0\n",
            "Iter 1020:   ; loss= 0.00062 ; Accuracy= 1.0\n",
            "Iter 1025:   ; loss= 0.00015 ; Accuracy= 1.0\n",
            "Iter 1030:   ; loss= 0.00028 ; Accuracy= 1.0\n",
            "Iter 1035:   ; loss= 7e-05 ; Accuracy= 1.0\n",
            "Iter 1040:   ; loss= 2e-05 ; Accuracy= 1.0\n",
            "Iter 1045:   ; loss= 0.00014 ; Accuracy= 1.0\n",
            "Iter 1050:   ; loss= 0.00017 ; Accuracy= 1.0\n",
            "Iter 1055:   ; loss= 6e-05 ; Accuracy= 1.0\n",
            "Iter 1060:   ; loss= 0.00017 ; Accuracy= 1.0\n",
            "Iter 1065:   ; loss= 9e-05 ; Accuracy= 1.0\n",
            "Iter 1070:   ; loss= 0.00011 ; Accuracy= 1.0\n",
            "Iter 1075:   ; loss= 1e-05 ; Accuracy= 1.0\n",
            "Iter 1080:   ; loss= 3e-05 ; Accuracy= 1.0\n",
            "Iter 1085:   ; loss= 3e-05 ; Accuracy= 1.0\n",
            "Iter 1090:   ; loss= 0.00013 ; Accuracy= 1.0\n",
            "Iter 1095:   ; loss= 0.0002 ; Accuracy= 1.0\n",
            "Iter 1100:   ; loss= 9e-05 ; Accuracy= 1.0\n",
            "Iter 1105:   ; loss= 4e-05 ; Accuracy= 1.0\n"
          ]
        }
      ],
      "source": [
        "for ite in range(int(maxiter)):\n",
        "    idx = index_array[index * batch_size: min((index+1) * batch_size, df_train.index.size)]\n",
        "    neighbor_idx = image_neighbor_select(idx)\n",
        "\n",
        "    loss = encoderWithNeighbors.train_on_batch(x=[x_train[idx],x_train[neighbor_idx[:,0]],x_train[neighbor_idx[:,1]]], y = y_train[idx].astype(int))\n",
        "\n",
        "    loss = np.round(loss, 5)\n",
        "    if (ite%5 == 0):\n",
        "      print('Iter %d: ' % (ite), ' ; loss=', loss[0], '; Accuracy=', loss[1])\n",
        "      encoderWithNeighbors.save_weights(save_dir + '/texts_BGETTY_DATASET_v2.h5')\n",
        "\n",
        "    index = index + 1 if (index + 1) * batch_size <= df_train.index.size  else 0\n",
        "\n",
        "encoderWithNeighbors.save_weights(save_dir + '/texts_BGETTY_DATASET_v2.h5')"
      ]
    },
    {
      "cell_type": "code",
      "execution_count": null,
      "metadata": {
        "id": "zRfB9sggx20n"
      },
      "outputs": [],
      "source": [
        "encoderWithNeighbors.load_weights(save_dir + '/texts_BGETTY_DATASET_v2.h5')"
      ]
    },
    {
      "cell_type": "code",
      "execution_count": null,
      "metadata": {
        "colab": {
          "base_uri": "https://localhost:8080/"
        },
        "id": "chS-VjU3tYUu",
        "outputId": "b14d246b-5b9e-41a4-929f-17c5566be77f"
      },
      "outputs": [
        {
          "name": "stdout",
          "output_type": "stream",
          "text": [
            "acc = 0.99975, recall = 0.99975, f1 = 0.99975, precision = 0.99975\n"
          ]
        }
      ],
      "source": [
        "flag=True\n",
        "y_pred = np.zeros([df_train.index.size,1])\n",
        "index = 0\n",
        "index_array = np.arange(df_train.index.size )\n",
        "label_txt = np.zeros([df_train.index.size])\n",
        "\n",
        "while flag==True:\n",
        "  \n",
        "    idx = index_array[index * batch_size: min((index+1) * batch_size, df_train.index.size)]\n",
        "    neighbor_idx = image_neighbor_select(idx)\n",
        "    label_txt[idx] = y_train[idx]\n",
        "\n",
        "    y_pred[idx] = encoderWithNeighbors.predict([x_train[idx], x_train[neighbor_idx[:,0]],x_train[neighbor_idx[:,1]]], verbose=0)\n",
        "\n",
        "    if (index + 1) * batch_size <= df_train.index.size:\n",
        "      index = index + 1 \n",
        "    else:\n",
        "      flag = False\n",
        "\n",
        "y_pred = np.round(np.reshape(y_pred, df_train.index.size)).astype(int)\n",
        "\n",
        "acc = np.round(acc_fun(y_train, y_pred), 5)\n",
        "recall = np.round(recall_score(y_train, y_pred), 5)\n",
        "f1 = np.round(f1_score_fun(y_train, y_pred), 5)\n",
        "precision =np.round(precision_score_fun(y_train, y_pred), 5)\n",
        "\n",
        "print('acc = %.5f, recall = %.5f, f1 = %.5f, precision = %.5f' % (acc, recall, f1, precision))"
      ]
    },
    {
      "cell_type": "code",
      "execution_count": null,
      "metadata": {
        "id": "asw7-40G-ALn"
      },
      "outputs": [],
      "source": [
        "sequences = tokenizer.texts_to_sequences(df_test['text'])\n",
        "x_test = pad_sequences(sequences, maxlen=maxlen)"
      ]
    },
    {
      "cell_type": "code",
      "execution_count": null,
      "metadata": {
        "colab": {
          "base_uri": "https://localhost:8080/"
        },
        "id": "2TtqRFE0tYUv",
        "outputId": "060b3b02-592c-4262-c58c-360b043e1eee"
      },
      "outputs": [
        {
          "name": "stdout",
          "output_type": "stream",
          "text": [
            "acc = 0.99603, recall = 0.99652, f1 = 0.99603, precision = 0.99553\n"
          ]
        }
      ],
      "source": [
        "flag=True\n",
        "y_pred = np.zeros([df_test.index.size,1])\n",
        "index = 0\n",
        "index_array = np.arange(df_test.index.size )\n",
        "label_txt = np.zeros([df_test.index.size])\n",
        "\n",
        "while flag==True:\n",
        "  \n",
        "    idx = index_array[index * batch_size: min((index+1) * batch_size, df_test.index.size)]\n",
        "    neighbor_idx = image_neighbor_select(idx, df_set='test')\n",
        "\n",
        "    y_pred[idx] = encoderWithNeighbors.predict([x_test[idx], x_test[neighbor_idx[:,0]],x_test[neighbor_idx[:,1]]], verbose=0)\n",
        "\n",
        "    if (index + 1) * batch_size <= df_test.index.size:\n",
        "      index = index + 1 \n",
        "    else:\n",
        "      flag = False\n",
        "\n",
        "y_pred = np.round(np.reshape(y_pred, df_test.index.size)).astype(int)\n",
        "\n",
        "acc = np.round(acc_fun(y_test, y_pred), 5)\n",
        "recall = np.round(recall_score(y_test, y_pred), 5)\n",
        "f1 = np.round(f1_score_fun(y_test, y_pred), 5)\n",
        "precision =np.round(precision_score_fun(y_test, y_pred), 5)\n",
        "\n",
        "print('acc = %.5f, recall = %.5f, f1 = %.5f, precision = %.5f' % (acc, recall, f1, precision))"
      ]
    }
  ],
  "metadata": {
    "colab": {
      "provenance": []
    },
    "gpuClass": "standard",
    "kernelspec": {
      "display_name": "Python 3",
      "language": "python",
      "name": "python3"
    },
    "language_info": {
      "codemirror_mode": {
        "name": "ipython",
        "version": 3
      },
      "file_extension": ".py",
      "mimetype": "text/x-python",
      "name": "python",
      "nbconvert_exporter": "python",
      "pygments_lexer": "ipython3",
      "version": "3.8.8"
    }
  },
  "nbformat": 4,
  "nbformat_minor": 0
}